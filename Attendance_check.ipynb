{
 "cells": [
  {
   "cell_type": "code",
   "execution_count": 1,
   "id": "e3e3e27c",
   "metadata": {},
   "outputs": [],
   "source": [
    "import cv2\n",
    "import numpy as np\n",
    "import face_recognition\n",
    "import os\n",
    "from datetime import datetime\n"
   ]
  },
  {
   "cell_type": "code",
   "execution_count": 2,
   "id": "d530a2f2",
   "metadata": {},
   "outputs": [
    {
     "name": "stdout",
     "output_type": "stream",
     "text": [
      "Requirement already satisfied: face_recognition in /Users/charanbhc/opt/anaconda3/lib/python3.9/site-packages (1.3.0)\n",
      "Requirement already satisfied: Click>=6.0 in /Users/charanbhc/opt/anaconda3/lib/python3.9/site-packages (from face_recognition) (8.0.4)\n",
      "Requirement already satisfied: numpy in /Users/charanbhc/opt/anaconda3/lib/python3.9/site-packages (from face_recognition) (1.26.0)\n",
      "Requirement already satisfied: dlib>=19.7 in /Users/charanbhc/opt/anaconda3/lib/python3.9/site-packages (from face_recognition) (19.24.2)\n",
      "Requirement already satisfied: Pillow in /Users/charanbhc/opt/anaconda3/lib/python3.9/site-packages (from face_recognition) (9.2.0)\n",
      "Requirement already satisfied: face-recognition-models>=0.3.0 in /Users/charanbhc/opt/anaconda3/lib/python3.9/site-packages (from face_recognition) (0.3.0)\n",
      "Note: you may need to restart the kernel to use updated packages.\n"
     ]
    }
   ],
   "source": [
    "pip install face_recognition\n"
   ]
  },
  {
   "cell_type": "code",
   "execution_count": 4,
   "id": "a2911365",
   "metadata": {},
   "outputs": [
    {
     "name": "stdout",
     "output_type": "stream",
     "text": [
      "['weatherAUS 2.csv', 'Visual Studio Code.app', 'CSE-IoT_CSO_R20_CS_SYL (1).pdf', 'VisualStudioSetup.exe', '2022-23 B.Tech 3-2 (R20) Regular Examinations, April-2023 Time Table-excel format.pdf', '3-2 CSO SYLLABUS (1).pdf', '3C3C6FD4-CFCC-4079-BF3F-69F344C6679C_1_105_c.jpeg', 'HARICHARAN_REDDY BHIMAVARAPU_Resume_16-04-2023-10-28-30.pdf', 'WhatsApp Image 2022-12-19 at 9.38.41 AM.jpeg', '.DS_Store', 'Cloud computing.jpg', 'js.txt', 'Vasireddy Venkatadri Institute of Technology_DECK OF KINGS.pptx', 'HARICHARAN REDDY BHIMAVARAPU.docx', 'dlreportprint.do.pdf', 'Certificate.pdf', '2-Program Book for Community Service Project as on 18-10-2022 (2).pdf', 'React-food-delivery-app-startup', 'HARICHARAN_REDDY B_Resume_03-03-2023-21-50-40.pdf', 'html.html', 'jpeg-optimizer_sign hari.jpg', '3-2 CSO SYLLABUS.pdf', '.localized', 'Hero Campus Challenge Season 8 - Unstop.pdf', 'BITCOIN PRICE PREDICTION.pdf', 'weatherAUS.csv', '20230909_025722841_iOS.jpg', '~$d image to drawable. (1).mhtml', 'ifxUdw2H_Z7zFNjS.mp4', '8A601F0A-08FF-46EE-80F7-268AEC1E2CB4_1_105_c.jpeg', 'notepad.txt', 'WhatsApp Image 2022-12-11 at 9.30.48 AM.jpeg', '~$CIC-Exam 2.xlsx', 'Program Book for Community Service Project as on 18-10-2022 (1).pdf', 'img.jpg', 'FOOD WASTAGE MANAGEMENT SYSTEM (1).pdf', '5_6170415528016873447.pdf', 'Attendance_System', '19b5eecf61ecfdf1b69516ad3a402aae.jpg', 'desktop-wallpaper-sai-baba-live-shirdi-god-thumbnail.jpg', 'sel.jpeg', '1621154737333.pdf', '~$ft skills MCQ questions and answers.docx', 'SMART HOME AUTOMATION   (2).pdf', 'wallpaper_saket_large.jpg', 'Install Spotify.app', 'dev town .pdf', 'Conversational Artificial Intelligence Analytics_Virtusa Jatayu.pdf', 'CSP Report on Organic Farming[20FE1A0465].pdf', 'test.png', 'B50BABC2-5CCC-4E23-AE0C-63E95B28A66F_1_105_c.jpeg', 'Rainfall Prediction.pdf', '20937.jpg', '~$IYEAR IIMID IMP QUS.docx', 'ID.jpeg', '1583800473773.pdf', 'ABS', 'photo-1566300141301-ab0577dcba1c.avif', 'ABS.zip', 'Fjv2dKYUcAArWcJ.jpeg', '27CD7CD4-2CB5-4542-A4D5-D2C8951FCE3D_1_105_c.jpeg', 'HARICHARAN REDDY BHIMAVARAPU.pdf', 'Jatayu_Season2_Idea-Solution Presentation Template.pptx', 'FOOD WASTAGE MANAGEMENT SYSTEM.pdf', '20BQ1A4910 SP.pdf', 'IV B.Tech Academic calender.pdf', '~$d 7 and 8 descriptions.docx', 'Movie name', 'fotor_2023-5-5_21_45_10.png', 'COLOR SORTING MACHINE .pdf', '.ipynb_checkpoints', 'Program Book for Community Service Project as on 18-10-2022.pdf', 'WhatsApp-Image-2022-12-11-at-93048-AM-transformed-transformed.jpeg', 'IAENG_membership_330992.pdf', 'CAT 2023.pdf', 'Shirdi_Sai_Baba_3.jpg', 'CSP.pdf', 'MALURL.pdf', 'HARI SABARIMALAI TRIP - for merge.docx', 'CGPACalculator.xlsx', 'ram.jpeg', 'SMART HOME AUTOMATION.pdf', 'VVIT Students Data 2024 co.xlsx', 'F83D5FA5-8FCA-4D67-9C5F-82A250664FE8_1_102_o.jpeg', '1621432670018.pdf', 'SnapSave.io - achyutam keshavam ram narayanam krishna damodaram vasudevam hare#jayshreeram (128 kbps).mp3', '930c61c796556c2d875415313a5c6911.jpg', '~$ft skills MCQ questions and answers (1).docx', 'Aadhaar.jpg', '~$MAD.docx', 'SuryaTejaResumeAmazon.pdf', 'krishna.jpg']\n",
      "['weatherAUS 2', 'Visual Studio Code', 'CSE-IoT_CSO_R20_CS_SYL (1)', 'VisualStudioSetup', '2022-23 B.Tech 3-2 (R20) Regular Examinations, April-2023 Time Table-excel format', '3-2 CSO SYLLABUS (1)', '3C3C6FD4-CFCC-4079-BF3F-69F344C6679C_1_105_c', 'HARICHARAN_REDDY BHIMAVARAPU_Resume_16-04-2023-10-28-30', 'WhatsApp Image 2022-12-19 at 9.38.41 AM', '.DS_Store', 'Cloud computing', 'js', 'Vasireddy Venkatadri Institute of Technology_DECK OF KINGS', 'HARICHARAN REDDY BHIMAVARAPU', 'dlreportprint.do', 'Certificate', '2-Program Book for Community Service Project as on 18-10-2022 (2)', 'React-food-delivery-app-startup', 'HARICHARAN_REDDY B_Resume_03-03-2023-21-50-40', 'html', 'jpeg-optimizer_sign hari', '3-2 CSO SYLLABUS', '.localized', 'Hero Campus Challenge Season 8 - Unstop', 'BITCOIN PRICE PREDICTION', 'weatherAUS', '20230909_025722841_iOS', '~$d image to drawable. (1)', 'ifxUdw2H_Z7zFNjS', '8A601F0A-08FF-46EE-80F7-268AEC1E2CB4_1_105_c', 'notepad', 'WhatsApp Image 2022-12-11 at 9.30.48 AM', '~$CIC-Exam 2', 'Program Book for Community Service Project as on 18-10-2022 (1)', 'img', 'FOOD WASTAGE MANAGEMENT SYSTEM (1)', '5_6170415528016873447', 'Attendance_System', '19b5eecf61ecfdf1b69516ad3a402aae', 'desktop-wallpaper-sai-baba-live-shirdi-god-thumbnail', 'sel', '1621154737333', '~$ft skills MCQ questions and answers', 'SMART HOME AUTOMATION   (2)', 'wallpaper_saket_large', 'Install Spotify', 'dev town ', 'Conversational Artificial Intelligence Analytics_Virtusa Jatayu', 'CSP Report on Organic Farming[20FE1A0465]', 'test', 'B50BABC2-5CCC-4E23-AE0C-63E95B28A66F_1_105_c', 'Rainfall Prediction', '20937', '~$IYEAR IIMID IMP QUS', 'ID', '1583800473773', 'ABS', 'photo-1566300141301-ab0577dcba1c', 'ABS', 'Fjv2dKYUcAArWcJ', '27CD7CD4-2CB5-4542-A4D5-D2C8951FCE3D_1_105_c', 'HARICHARAN REDDY BHIMAVARAPU', 'Jatayu_Season2_Idea-Solution Presentation Template', 'FOOD WASTAGE MANAGEMENT SYSTEM', '20BQ1A4910 SP', 'IV B.Tech Academic calender', '~$d 7 and 8 descriptions', 'Movie name', 'fotor_2023-5-5_21_45_10', 'COLOR SORTING MACHINE ', '.ipynb_checkpoints', 'Program Book for Community Service Project as on 18-10-2022', 'WhatsApp-Image-2022-12-11-at-93048-AM-transformed-transformed', 'IAENG_membership_330992', 'CAT 2023', 'Shirdi_Sai_Baba_3', 'CSP', 'MALURL', 'HARI SABARIMALAI TRIP - for merge', 'CGPACalculator', 'ram', 'SMART HOME AUTOMATION', 'VVIT Students Data 2024 co', 'F83D5FA5-8FCA-4D67-9C5F-82A250664FE8_1_102_o', '1621432670018', 'SnapSave.io - achyutam keshavam ram narayanam krishna damodaram vasudevam hare#jayshreeram (128 kbps)', '930c61c796556c2d875415313a5c6911', '~$ft skills MCQ questions and answers (1)', 'Aadhaar', '~$MAD', 'SuryaTejaResumeAmazon', 'krishna']\n"
     ]
    }
   ],
   "source": [
    "path = '/Users/charanbhc/Downloads'\n",
    "images = []\n",
    "personNames = []\n",
    "myList = os.listdir(path)\n",
    "print(myList)\n",
    "for cu_img in myList:\n",
    "    current_Img = cv2.imread(f'{path}/{cu_img}')\n",
    "    images.append(current_Img)\n",
    "    personNames.append(os.path.splitext(cu_img)[0])\n",
    "print(personNames)"
   ]
  },
  {
   "cell_type": "code",
   "execution_count": 6,
   "id": "bce3194e",
   "metadata": {},
   "outputs": [],
   "source": [
    "def faceEncodings(images):\n",
    "    encodeList = []\n",
    "    for img in images:\n",
    "        img = cv2.cvtColor(img, cv2.COLOR_BGR2RGB)\n",
    "        encode = face_recognition.face_encodings(img)[0]\n",
    "        encodeList.append(encode)\n",
    "    return encodeList"
   ]
  },
  {
   "cell_type": "code",
   "execution_count": 7,
   "id": "0d9a1fb8",
   "metadata": {},
   "outputs": [],
   "source": [
    "def attendance(name):\n",
    "    with open('/Users/charanbhc/Downloads', 'r+') as f:\n",
    "        myDataList = f.readlines()\n",
    "        nameList = []\n",
    "        for line in myDataList:\n",
    "            entry = line.split(',')\n",
    "            nameList.append(entry[0])\n",
    "        if name not in nameList:\n",
    "            time_now = datetime.now()\n",
    "            tStr = time_now.strftime('%H:%M:%S')\n",
    "            dStr = time_now.strftime('%d/%m/%Y')\n",
    "            f.writelines(f'\\n{name},{tStr},{dStr}')\n"
   ]
  },
  {
   "cell_type": "code",
   "execution_count": 8,
   "id": "6aa72a2f",
   "metadata": {},
   "outputs": [
    {
     "ename": "error",
     "evalue": "OpenCV(4.8.0) /Users/runner/work/opencv-python/opencv-python/opencv/modules/imgproc/src/color.cpp:182: error: (-215:Assertion failed) !_src.empty() in function 'cvtColor'\n",
     "output_type": "error",
     "traceback": [
      "\u001b[0;31m---------------------------------------------------------------------------\u001b[0m",
      "\u001b[0;31merror\u001b[0m                                     Traceback (most recent call last)",
      "\u001b[0;32m/var/folders/6q/yk1vn41d49s3cvxn8xn_hrcc0000gn/T/ipykernel_5955/1731423702.py\u001b[0m in \u001b[0;36m<module>\u001b[0;34m\u001b[0m\n\u001b[0;32m----> 1\u001b[0;31m \u001b[0mencodeListKnown\u001b[0m \u001b[0;34m=\u001b[0m \u001b[0mfaceEncodings\u001b[0m\u001b[0;34m(\u001b[0m\u001b[0mimages\u001b[0m\u001b[0;34m)\u001b[0m\u001b[0;34m\u001b[0m\u001b[0;34m\u001b[0m\u001b[0m\n\u001b[0m\u001b[1;32m      2\u001b[0m \u001b[0mprint\u001b[0m\u001b[0;34m(\u001b[0m\u001b[0;34m'All Encodings Complete!!!'\u001b[0m\u001b[0;34m)\u001b[0m\u001b[0;34m\u001b[0m\u001b[0;34m\u001b[0m\u001b[0m\n\u001b[1;32m      3\u001b[0m \u001b[0;34m\u001b[0m\u001b[0m\n\u001b[1;32m      4\u001b[0m \u001b[0mcap\u001b[0m \u001b[0;34m=\u001b[0m \u001b[0mcv2\u001b[0m\u001b[0;34m.\u001b[0m\u001b[0mVideoCapture\u001b[0m\u001b[0;34m(\u001b[0m\u001b[0;36m0\u001b[0m\u001b[0;34m)\u001b[0m\u001b[0;34m\u001b[0m\u001b[0;34m\u001b[0m\u001b[0m\n",
      "\u001b[0;32m/var/folders/6q/yk1vn41d49s3cvxn8xn_hrcc0000gn/T/ipykernel_5955/3002065871.py\u001b[0m in \u001b[0;36mfaceEncodings\u001b[0;34m(images)\u001b[0m\n\u001b[1;32m      2\u001b[0m     \u001b[0mencodeList\u001b[0m \u001b[0;34m=\u001b[0m \u001b[0;34m[\u001b[0m\u001b[0;34m]\u001b[0m\u001b[0;34m\u001b[0m\u001b[0;34m\u001b[0m\u001b[0m\n\u001b[1;32m      3\u001b[0m     \u001b[0;32mfor\u001b[0m \u001b[0mimg\u001b[0m \u001b[0;32min\u001b[0m \u001b[0mimages\u001b[0m\u001b[0;34m:\u001b[0m\u001b[0;34m\u001b[0m\u001b[0;34m\u001b[0m\u001b[0m\n\u001b[0;32m----> 4\u001b[0;31m         \u001b[0mimg\u001b[0m \u001b[0;34m=\u001b[0m \u001b[0mcv2\u001b[0m\u001b[0;34m.\u001b[0m\u001b[0mcvtColor\u001b[0m\u001b[0;34m(\u001b[0m\u001b[0mimg\u001b[0m\u001b[0;34m,\u001b[0m \u001b[0mcv2\u001b[0m\u001b[0;34m.\u001b[0m\u001b[0mCOLOR_BGR2RGB\u001b[0m\u001b[0;34m)\u001b[0m\u001b[0;34m\u001b[0m\u001b[0;34m\u001b[0m\u001b[0m\n\u001b[0m\u001b[1;32m      5\u001b[0m         \u001b[0mencode\u001b[0m \u001b[0;34m=\u001b[0m \u001b[0mface_recognition\u001b[0m\u001b[0;34m.\u001b[0m\u001b[0mface_encodings\u001b[0m\u001b[0;34m(\u001b[0m\u001b[0mimg\u001b[0m\u001b[0;34m)\u001b[0m\u001b[0;34m[\u001b[0m\u001b[0;36m0\u001b[0m\u001b[0;34m]\u001b[0m\u001b[0;34m\u001b[0m\u001b[0;34m\u001b[0m\u001b[0m\n\u001b[1;32m      6\u001b[0m         \u001b[0mencodeList\u001b[0m\u001b[0;34m.\u001b[0m\u001b[0mappend\u001b[0m\u001b[0;34m(\u001b[0m\u001b[0mencode\u001b[0m\u001b[0;34m)\u001b[0m\u001b[0;34m\u001b[0m\u001b[0;34m\u001b[0m\u001b[0m\n",
      "\u001b[0;31merror\u001b[0m: OpenCV(4.8.0) /Users/runner/work/opencv-python/opencv-python/opencv/modules/imgproc/src/color.cpp:182: error: (-215:Assertion failed) !_src.empty() in function 'cvtColor'\n"
     ]
    }
   ],
   "source": [
    "encodeListKnown = faceEncodings(images)\n",
    "print('All Encodings Complete!!!')\n",
    "\n",
    "cap = cv2.VideoCapture(0)"
   ]
  },
  {
   "cell_type": "code",
   "execution_count": 9,
   "id": "2723c0c4",
   "metadata": {},
   "outputs": [
    {
     "name": "stdout",
     "output_type": "stream",
     "text": [
      "['20BQ1A4931.JPG', '20BQ1A4921.JPG', '20BQ1A4913.JPG']\n",
      "['20BQ1A4931', '20BQ1A4921', '20BQ1A4913']\n",
      "All Encodings Complete!!!\n"
     ]
    },
    {
     "name": "stderr",
     "output_type": "stream",
     "text": [
      "OpenCV: not authorized to capture video (status 0), requesting...\n",
      "OpenCV: camera failed to properly initialize!\n"
     ]
    }
   ],
   "source": [
    "import cv2\n",
    "import numpy as np\n",
    "import face_recognition\n",
    "import os\n",
    "from datetime import datetime\n",
    "\n",
    "\n",
    "path = '/Users/charanbhc/Downloads/Attendance_System/images'\n",
    "images = []\n",
    "personNames = []\n",
    "myList = os.listdir(path)\n",
    "print(myList)\n",
    "for cu_img in myList:\n",
    "    current_Img = cv2.imread(f'{path}/{cu_img}')\n",
    "    images.append(current_Img)\n",
    "    personNames.append(os.path.splitext(cu_img)[0])\n",
    "print(personNames)\n",
    "\n",
    "\n",
    "def faceEncodings(images):\n",
    "    encodeList = []\n",
    "    for img in images:\n",
    "        img = cv2.cvtColor(img, cv2.COLOR_BGR2RGB)\n",
    "        encode = face_recognition.face_encodings(img)[0]\n",
    "        encodeList.append(encode)\n",
    "    return encodeList\n",
    "\n",
    "\n",
    "def attendance(name):\n",
    "    with open('/Users/charanbhc/Downloads/Attendance_System/Attendance.csv', 'r+') as f:\n",
    "        myDataList = f.readlines()\n",
    "        nameList = []\n",
    "        for line in myDataList:\n",
    "            entry = line.split(',')\n",
    "            nameList.append(entry[0])\n",
    "        if name not in nameList:\n",
    "            time_now = datetime.now()\n",
    "            tStr = time_now.strftime('%H:%M:%S')\n",
    "            dStr = time_now.strftime('%d/%m/%Y')\n",
    "            f.writelines(f'\\n{name},{tStr},{dStr}')\n",
    "\n",
    "\n",
    "encodeListKnown = faceEncodings(images)\n",
    "print('All Encodings Complete!!!')\n",
    "\n",
    "cap = cv2.VideoCapture(0)\n"
   ]
  },
  {
   "cell_type": "code",
   "execution_count": 10,
   "id": "178f7147",
   "metadata": {},
   "outputs": [
    {
     "ename": "error",
     "evalue": "OpenCV(4.8.0) /Users/runner/work/opencv-python/opencv-python/opencv/modules/imgproc/src/resize.cpp:4062: error: (-215:Assertion failed) !ssize.empty() in function 'resize'\n",
     "output_type": "error",
     "traceback": [
      "\u001b[0;31m---------------------------------------------------------------------------\u001b[0m",
      "\u001b[0;31merror\u001b[0m                                     Traceback (most recent call last)",
      "\u001b[0;32m/var/folders/6q/yk1vn41d49s3cvxn8xn_hrcc0000gn/T/ipykernel_5955/870654766.py\u001b[0m in \u001b[0;36m<module>\u001b[0;34m\u001b[0m\n\u001b[1;32m      1\u001b[0m \u001b[0;32mwhile\u001b[0m \u001b[0;32mTrue\u001b[0m\u001b[0;34m:\u001b[0m\u001b[0;34m\u001b[0m\u001b[0;34m\u001b[0m\u001b[0m\n\u001b[1;32m      2\u001b[0m     \u001b[0mret\u001b[0m\u001b[0;34m,\u001b[0m \u001b[0mframe\u001b[0m \u001b[0;34m=\u001b[0m \u001b[0mcap\u001b[0m\u001b[0;34m.\u001b[0m\u001b[0mread\u001b[0m\u001b[0;34m(\u001b[0m\u001b[0;34m)\u001b[0m\u001b[0;34m\u001b[0m\u001b[0;34m\u001b[0m\u001b[0m\n\u001b[0;32m----> 3\u001b[0;31m     \u001b[0mfaces\u001b[0m \u001b[0;34m=\u001b[0m \u001b[0mcv2\u001b[0m\u001b[0;34m.\u001b[0m\u001b[0mresize\u001b[0m\u001b[0;34m(\u001b[0m\u001b[0mframe\u001b[0m\u001b[0;34m,\u001b[0m \u001b[0;34m(\u001b[0m\u001b[0;36m0\u001b[0m\u001b[0;34m,\u001b[0m \u001b[0;36m0\u001b[0m\u001b[0;34m)\u001b[0m\u001b[0;34m,\u001b[0m \u001b[0;32mNone\u001b[0m\u001b[0;34m,\u001b[0m \u001b[0;36m0.25\u001b[0m\u001b[0;34m,\u001b[0m \u001b[0;36m0.25\u001b[0m\u001b[0;34m)\u001b[0m\u001b[0;34m\u001b[0m\u001b[0;34m\u001b[0m\u001b[0m\n\u001b[0m\u001b[1;32m      4\u001b[0m     \u001b[0mfaces\u001b[0m \u001b[0;34m=\u001b[0m \u001b[0mcv2\u001b[0m\u001b[0;34m.\u001b[0m\u001b[0mcvtColor\u001b[0m\u001b[0;34m(\u001b[0m\u001b[0mfaces\u001b[0m\u001b[0;34m,\u001b[0m \u001b[0mcv2\u001b[0m\u001b[0;34m.\u001b[0m\u001b[0mCOLOR_BGR2RGB\u001b[0m\u001b[0;34m)\u001b[0m\u001b[0;34m\u001b[0m\u001b[0;34m\u001b[0m\u001b[0m\n\u001b[1;32m      5\u001b[0m \u001b[0;34m\u001b[0m\u001b[0m\n",
      "\u001b[0;31merror\u001b[0m: OpenCV(4.8.0) /Users/runner/work/opencv-python/opencv-python/opencv/modules/imgproc/src/resize.cpp:4062: error: (-215:Assertion failed) !ssize.empty() in function 'resize'\n"
     ]
    }
   ],
   "source": [
    "while True:\n",
    "    ret, frame = cap.read()\n",
    "    faces = cv2.resize(frame, (0, 0), None, 0.25, 0.25)\n",
    "    faces = cv2.cvtColor(faces, cv2.COLOR_BGR2RGB)\n",
    "\n",
    "    facesCurrentFrame = face_recognition.face_locations(faces)\n",
    "    encodesCurrentFrame = face_recognition.face_encodings(faces, facesCurrentFrame)\n",
    "\n",
    "    for encodeFace, faceLoc in zip(encodesCurrentFrame, facesCurrentFrame):\n",
    "        matches = face_recognition.compare_faces(encodeListKnown, encodeFace)\n",
    "        faceDis = face_recognition.face_distance(encodeListKnown, encodeFace)\n",
    "        # print(faceDis)\n",
    "        matchIndex = np.argmin(faceDis)"
   ]
  },
  {
   "cell_type": "code",
   "execution_count": null,
   "id": "77bf467e",
   "metadata": {},
   "outputs": [
    {
     "name": "stdout",
     "output_type": "stream",
     "text": [
      "['20BQ1A4931.JPG', '20BQ1A4921.JPG', '20BQ1A4913.JPG']\n",
      "['20BQ1A4931', '20BQ1A4921', '20BQ1A4913']\n",
      "All Encodings Complete!!!\n"
     ]
    },
    {
     "name": "stderr",
     "output_type": "stream",
     "text": [
      "2023-09-27 10:18:31.991 python[5955:163627] WARNING: AVCaptureDeviceTypeExternal is deprecated for Continuity Cameras. Please use AVCaptureDeviceTypeContinuityCamera and add NSCameraUseContinuityCameraDeviceType to your Info.plist.\n"
     ]
    }
   ],
   "source": [
    "import cv2\n",
    "import numpy as np\n",
    "import face_recognition\n",
    "import os\n",
    "from datetime import datetime\n",
    "\n",
    "\n",
    "path = '/Users/charanbhc/Downloads/Attendance_System/images'\n",
    "images = []\n",
    "personNames = []\n",
    "myList = os.listdir(path)\n",
    "print(myList)\n",
    "for cu_img in myList:\n",
    "    current_Img = cv2.imread(f'{path}/{cu_img}')\n",
    "    images.append(current_Img)\n",
    "    personNames.append(os.path.splitext(cu_img)[0])\n",
    "print(personNames)\n",
    "\n",
    "\n",
    "def faceEncodings(images):\n",
    "    encodeList = []\n",
    "    for img in images:\n",
    "        img = cv2.cvtColor(img, cv2.COLOR_BGR2RGB)\n",
    "        encode = face_recognition.face_encodings(img)[0]\n",
    "        encodeList.append(encode)\n",
    "    return encodeList\n",
    "\n",
    "\n",
    "def attendance(name):\n",
    "    with open('/Users/charanbhc/Downloads/Attendance_System/Attendance.csv', 'r+') as f:\n",
    "        myDataList = f.readlines()\n",
    "        nameList = []\n",
    "        for line in myDataList:\n",
    "            entry = line.split(',')\n",
    "            nameList.append(entry[0])\n",
    "        if name not in nameList:\n",
    "            time_now = datetime.now()\n",
    "            tStr = time_now.strftime('%H:%M:%S')\n",
    "            dStr = time_now.strftime('%d/%m/%Y')\n",
    "            f.writelines(f'\\n{name},{tStr},{dStr}')\n",
    "\n",
    "\n",
    "encodeListKnown = faceEncodings(images)\n",
    "print('All Encodings Complete!!!')\n",
    "\n",
    "cap = cv2.VideoCapture(0)\n",
    "\n",
    "while True:\n",
    "    ret, frame = cap.read()\n",
    "    faces = cv2.resize(frame, (0, 0), None, 0.25, 0.25)\n",
    "    faces = cv2.cvtColor(faces, cv2.COLOR_BGR2RGB)\n",
    "\n",
    "    facesCurrentFrame = face_recognition.face_locations(faces)\n",
    "    encodesCurrentFrame = face_recognition.face_encodings(faces, facesCurrentFrame)\n",
    "\n",
    "    for encodeFace, faceLoc in zip(encodesCurrentFrame, facesCurrentFrame):\n",
    "        matches = face_recognition.compare_faces(encodeListKnown, encodeFace)\n",
    "        faceDis = face_recognition.face_distance(encodeListKnown, encodeFace)\n",
    "        # print(faceDis)\n",
    "        matchIndex = np.argmin(faceDis)\n"
   ]
  },
  {
   "cell_type": "code",
   "execution_count": null,
   "id": "81d4441c",
   "metadata": {},
   "outputs": [],
   "source": [
    "import cv2\n",
    "import numpy as np\n",
    "import face_recognition\n",
    "import os\n",
    "from datetime import datetime\n",
    "\n",
    "\n",
    "path = '/Users/charanbhc/Downloads/Attendance_System/images'\n",
    "images = []\n",
    "personNames = []\n",
    "myList = os.listdir(path)\n",
    "print(myList)\n",
    "for cu_img in myList:\n",
    "    current_Img = cv2.imread(f'{path}/{cu_img}')\n",
    "    images.append(current_Img)\n",
    "    personNames.append(os.path.splitext(cu_img)[0])\n",
    "print(personNames)\n",
    "\n",
    "\n",
    "def faceEncodings(images):\n",
    "    encodeList = []\n",
    "    for img in images:\n",
    "        img = cv2.cvtColor(img, cv2.COLOR_BGR2RGB)\n",
    "        encode = face_recognition.face_encodings(img)[0]\n",
    "        encodeList.append(encode)\n",
    "    return encodeList\n",
    "\n",
    "\n",
    "def attendance(name):\n",
    "    with open('/Users/charanbhc/Downloads/Attendance_System/Attendance.csv', 'r+') as f:\n",
    "        myDataList = f.readlines()\n",
    "        nameList = []\n",
    "        for line in myDataList:\n",
    "            entry = line.split(',')\n",
    "            nameList.append(entry[0])\n",
    "        if name not in nameList:\n",
    "            time_now = datetime.now()\n",
    "            tStr = time_now.strftime('%H:%M:%S')\n",
    "            dStr = time_now.strftime('%d/%m/%Y')\n",
    "            f.writelines(f'\\n{name},{tStr},{dStr}')\n",
    "\n",
    "\n",
    "encodeListKnown = faceEncodings(images)\n",
    "print('All Encodings Complete!!!')\n",
    "\n",
    "cap = cv2.VideoCapture(0)\n",
    "\n",
    "while True:\n",
    "    ret, frame = cap.read()\n",
    "    faces = cv2.resize(frame, (0, 0), None, 0.25, 0.25)\n",
    "    faces = cv2.cvtColor(faces, cv2.COLOR_BGR2RGB)\n",
    "\n",
    "    facesCurrentFrame = face_recognition.face_locations(faces)\n",
    "    encodesCurrentFrame = face_recognition.face_encodings(faces, facesCurrentFrame)\n",
    "\n",
    "    for encodeFace, faceLoc in zip(encodesCurrentFrame, facesCurrentFrame):\n",
    "        matches = face_recognition.compare_faces(encodeListKnown, encodeFace)\n",
    "        faceDis = face_recognition.face_distance(encodeListKnown, encodeFace)\n",
    "        # print(faceDis)\n",
    "        matchIndex = np.argmin(faceDis)\n",
    "\n",
    "        if matches[matchIndex]:\n",
    "            name = personNames[matchIndex].upper()\n",
    "            # print(name)\n",
    "            y1, x2, y2, x1 = faceLoc\n",
    "            y1, x2, y2, x1 = y1 * 4, x2 * 4, y2 * 4, x1 * 4\n",
    "            cv2.rectangle(frame, (x1, y1), (x2, y2), (0, 255, 0), 2)\n",
    "            cv2.rectangle(frame, (x1, y2 - 35), (x2, y2), (0, 255, 0), cv2.FILLED)\n",
    "            cv2.putText(frame, name, (x1 + 6, y2 - 6), cv2.FONT_HERSHEY_COMPLEX, 1, (255, 255, 255), 2)\n",
    "            attendance(name)\n",
    "\n",
    "    cv2.imshow('Webcam', frame)\n",
    "    if cv2.waitKey(1) == 13:\n",
    "        break\n",
    "\n",
    "cap.release()\n",
    "cv2.destroyAllWindows()"
   ]
  },
  {
   "cell_type": "code",
   "execution_count": null,
   "id": "b1339a9f",
   "metadata": {},
   "outputs": [],
   "source": []
  }
 ],
 "metadata": {
  "kernelspec": {
   "display_name": "Python 3 (ipykernel)",
   "language": "python",
   "name": "python3"
  },
  "language_info": {
   "codemirror_mode": {
    "name": "ipython",
    "version": 3
   },
   "file_extension": ".py",
   "mimetype": "text/x-python",
   "name": "python",
   "nbconvert_exporter": "python",
   "pygments_lexer": "ipython3",
   "version": "3.9.13"
  }
 },
 "nbformat": 4,
 "nbformat_minor": 5
}
